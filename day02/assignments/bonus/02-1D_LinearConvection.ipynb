{
 "cells": [
  {
   "cell_type": "markdown",
   "metadata": {},
   "source": [
    "## Imports"
   ]
  },
  {
   "cell_type": "code",
   "execution_count": 2,
   "metadata": {},
   "outputs": [],
   "source": [
    "import numpy as np\n",
    "import matplotlib.pyplot as plt\n",
    "import time\n",
    "from numba import njit"
   ]
  },
  {
   "cell_type": "markdown",
   "metadata": {},
   "source": [
    "## Numba accelerator"
   ]
  },
  {
   "cell_type": "code",
   "execution_count": 3,
   "metadata": {},
   "outputs": [],
   "source": [
    "@njit(fastmath=True)\n",
    "def solve_1d_linearconv(u, un, nt, nx, dt, dx, c):\n",
    "\n",
    "    for n in range(nt):  \n",
    "        for i in range(nx): un[i] = u[i]\n",
    "        for i in range(1, nx): \n",
    "            u[i] = un[i] - c * dt / dx * (un[i] - un[i-1])\n",
    "    return 0"
   ]
  },
  {
   "cell_type": "markdown",
   "metadata": {},
   "source": [
    "## Inputs"
   ]
  },
  {
   "cell_type": "code",
   "execution_count": 13,
   "metadata": {},
   "outputs": [
    {
     "name": "stdout",
     "output_type": "stream",
     "text": [
      "1.0\n",
      "1.0\n"
     ]
    },
    {
     "data": {
      "image/png": "[encoded data removed]",
      "text/plain": [
       "<Figure size 432x288 with 1 Axes>"
      ]
     },
     "metadata": {
      "needs_background": "light"
     },
     "output_type": "display_data"
    }
   ],
   "source": [
    "nx = 251  # try changing this number from 41 to 81 and Run All ... what happens?\n",
    "dx = (2 - 0) / (nx-1)\n",
    "nt = 100    #nt is the number of timesteps we want to calculate\n",
    "c = 2      #assume wavespeed of c = 1\n",
    "dt = 0.004\n",
    "\n",
    "cfl = c*dt/dx\n",
    "print(cfl)\n",
    "\n",
    "grid = np.linspace(0,2,nx) # creating the space grid    \n",
    "\n",
    "u0 = np.ones(nx)      #numpy function ones()\n",
    "u0[int(.5 / dx):int(1 / dx + 1)] = 2  #setting u = 2 between 0.5 and 1 as per our I.C.s\n",
    "plt.plot(grid,u0)\n",
    "u = u0.copy()\n",
    "un = np.ones(nx)\n",
    "\n",
    "\n",
    "cfl = c*dt/dx\n",
    "print(cfl)"
   ]
  },
  {
   "cell_type": "code",
   "execution_count": 14,
   "metadata": {},
   "outputs": [
    {
     "data": {
      "text/plain": [
       "Text(0.5, 1.0, '1D Linear Convection')"
      ]
     },
     "execution_count": 14,
     "metadata": {},
     "output_type": "execute_result"
    },
    {
     "data": {
      "image/png": "[encoded data removed]",
      "text/plain": [
       "<Figure size 432x288 with 1 Axes>"
      ]
     },
     "metadata": {
      "needs_background": "light"
     },
     "output_type": "display_data"
    }
   ],
   "source": [
    "solve_1d_linearconv(u, un, nt, nx, dt, dx, c)\n",
    "\n",
    "#Plotting data\n",
    "plt.plot(grid,u);\n",
    "plt.ylim([1.,2.2])\n",
    "plt.xlabel('X')\n",
    "plt.ylabel('Velocity')    \n",
    "plt.title('1D Linear Convection')"
   ]
  },
  {
   "cell_type": "markdown",
   "metadata": {},
   "source": [
    "## Call Funtions using timeit"
   ]
  },
  {
   "cell_type": "markdown",
   "metadata": {},
   "source": [
    "### Pure function"
   ]
  },
  {
   "cell_type": "code",
   "execution_count": 19,
   "metadata": {},
   "outputs": [
    {
     "name": "stderr",
     "output_type": "stream",
     "text": [
      "<ipython-input-16-1467d9171c65>:7: RuntimeWarning: overflow encountered in double_scalars\n",
      "  u[i] = un[i] - c * dt / dx * (un[i] - un[i-1])\n",
      "<ipython-input-16-1467d9171c65>:7: RuntimeWarning: invalid value encountered in double_scalars\n",
      "  u[i] = un[i] - c * dt / dx * (un[i] - un[i-1])\n"
     ]
    },
    {
     "name": "stdout",
     "output_type": "stream",
     "text": [
      "28.2 ms ± 798 µs per loop (mean ± std. dev. of 7 runs, 10 loops each)\n"
     ]
    }
   ],
   "source": [
    "%timeit solve_1d_linearconv.py_func(u, un, nt, nx, dt, dx, c)"
   ]
  },
  {
   "cell_type": "markdown",
   "metadata": {},
   "source": [
    "### Function with numba accelerator"
   ]
  },
  {
   "cell_type": "code",
   "execution_count": 20,
   "metadata": {},
   "outputs": [
    {
     "name": "stdout",
     "output_type": "stream",
     "text": [
      "67.1 µs ± 774 ns per loop (mean ± std. dev. of 7 runs, 10000 loops each)\n"
     ]
    }
   ],
   "source": [
    "%timeit solve_1d_linearconv(u, un, nt, nx, dt, dx, c)"
   ]
  }
 ],
 "metadata": {
  "hide_input": false,
  "kernelspec": {
   "display_name": "Python 3",
   "language": "python",
   "name": "python3"
  },
  "language_info": {
   "codemirror_mode": {
    "name": "ipython",
    "version": 3
   },
   "file_extension": ".py",
   "mimetype": "text/x-python",
   "name": "python",
   "nbconvert_exporter": "python",
   "pygments_lexer": "ipython3",
   "version": "3.8.10"
  }
 },
 "nbformat": 4,
 "nbformat_minor": 2
}
